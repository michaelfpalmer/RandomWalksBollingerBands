{
 "cells": [
  {
   "cell_type": "code",
   "execution_count": 1,
   "metadata": {},
   "outputs": [],
   "source": [
    "import numpy as np"
   ]
  },
  {
   "cell_type": "code",
   "execution_count": 76,
   "metadata": {},
   "outputs": [
    {
     "data": {
      "text/plain": [
       "array([ -1,  -2,  -1,  -2,  -1,   0,   1,   2,   1,   2,   3,   4,   3,\n",
       "         2,   3,   2,   1,   0,   1,   0,  -1,  -2,  -3,  -2,  -3,  -4,\n",
       "        -5,  -4,  -5,  -4,  -3,  -4,  -5,  -6,  -7,  -6,  -7,  -8,  -9,\n",
       "        -8,  -7,  -6,  -7,  -6,  -5,  -6,  -5,  -4,  -5,  -6,  -7,  -8,\n",
       "        -9,  -8,  -7,  -6,  -7,  -8,  -7,  -6,  -7,  -8,  -9, -10, -11,\n",
       "       -12, -13, -14, -15, -16, -17, -16, -17, -16, -15, -14, -13, -14,\n",
       "       -13, -12, -11, -12, -11, -12, -11, -10,  -9,  -8,  -9,  -8,  -9,\n",
       "        -8,  -9, -10,  -9,  -8,  -7,  -8,  -9, -10])"
      ]
     },
     "execution_count": 76,
     "metadata": {},
     "output_type": "execute_result"
    }
   ],
   "source": [
    "length=100\n",
    "dx = np.random.choice([-1, 1], size=length)\n",
    "dx.cumsum()"
   ]
  },
  {
   "cell_type": "code",
   "execution_count": 42,
   "metadata": {},
   "outputs": [],
   "source": [
    "import numpy as np\n",
    "import matplotlib.pyplot as plt\n",
    "def create_random_walk(n: int) -> np.array:\n",
    "    dx = np.random.normal(scale=1.0, size=n)\n",
    "    return dx.cumsum()\n"
   ]
  },
  {
   "cell_type": "code",
   "execution_count": 183,
   "metadata": {},
   "outputs": [
    {
     "data": {
      "text/plain": [
       "array([[-8.91154003, -8.89385195,  1.4380549 , ..., -4.35428734,\n",
       "        -2.63645659, -1.86132875],\n",
       "       [-8.91154003, -8.89385195,  0.58735575, ..., -2.63645659,\n",
       "        -1.86132875, -1.52672434],\n",
       "       [-8.91154003, -8.89385195,  0.25377844, ..., -1.86132875,\n",
       "        -1.52672434, -3.88798984],\n",
       "       ...,\n",
       "       [91.50145541, 91.68314875, 99.45362596, ..., 93.26004854,\n",
       "        92.76810983, 91.97444098],\n",
       "       [91.29196105, 91.50145541, 99.20645135, ..., 92.76810983,\n",
       "        91.97444098, 98.85018183],\n",
       "       [91.29196105, 91.50145541, 99.04176034, ..., 91.97444098,\n",
       "        99.45362596, 92.04921555]])"
      ]
     },
     "execution_count": 183,
     "metadata": {},
     "output_type": "execute_result"
    }
   ],
   "source": [
    "np.partition(windowed,1,axis=1)"
   ]
  },
  {
   "cell_type": "code",
   "execution_count": 174,
   "metadata": {},
   "outputs": [
    {
     "data": {
      "text/plain": [
       "(99901,)"
      ]
     },
     "execution_count": 174,
     "metadata": {},
     "output_type": "execute_result"
    }
   ],
   "source": [
    "np.partition(windowed,1,axis=1)[:,0].shape"
   ]
  },
  {
   "cell_type": "code",
   "execution_count": 182,
   "metadata": {},
   "outputs": [
    {
     "data": {
      "text/plain": [
       "array([-8.91154003, -8.91154003, -8.91154003, ..., 91.50145541,\n",
       "       91.29196105, 91.29196105])"
      ]
     },
     "execution_count": 182,
     "metadata": {},
     "output_type": "execute_result"
    }
   ],
   "source": [
    "np.partition(windowed,1,axis=1)[:,0]"
   ]
  },
  {
   "cell_type": "code",
   "execution_count": 175,
   "metadata": {},
   "outputs": [
    {
     "data": {
      "text/plain": [
       "array([0., 0., 0., ..., 0., 0., 0.])"
      ]
     },
     "execution_count": 175,
     "metadata": {},
     "output_type": "execute_result"
    }
   ],
   "source": [
    "np.partition(windowed,1,axis=1)[:,0] - np.min(windowed,axis=1)\n",
    "#window_means.shape"
   ]
  },
  {
   "cell_type": "code",
   "execution_count": 184,
   "metadata": {},
   "outputs": [],
   "source": [
    "np.partition?"
   ]
  },
  {
   "cell_type": "code",
   "execution_count": 248,
   "metadata": {},
   "outputs": [
    {
     "data": {
      "text/plain": [
       "array([-0.20973358, -1.53835074, -1.44899543, ..., -0.59907678,\n",
       "       -0.39069567, -0.39069567])"
      ]
     },
     "execution_count": 248,
     "metadata": {},
     "output_type": "execute_result"
    }
   ],
   "source": [
    "k=2\n",
    "np.partition(windowed,k)\n",
    "np.partition(windowed,-2,axis=1)[:,-2] - np.max(windowed,axis=1)\n",
    "#windowed"
   ]
  },
  {
   "cell_type": "code",
   "execution_count": 284,
   "metadata": {},
   "outputs": [
    {
     "data": {
      "image/png": "[encoded data removed]",
      "text/plain": [
       "<Figure size 432x288 with 1 Axes>"
      ]
     },
     "metadata": {
      "needs_background": "light"
     },
     "output_type": "display_data"
    }
   ],
   "source": [
    "def calculate_bollinger_band(x: np.array, bandwidth=100) -> np.array:\n",
    "    windowed = moving_window_2d(x, bandwidth)\n",
    "    window_means = windowed.mean(axis=1)\n",
    "    window_sds = windowed.std(axis=1)\n",
    "    lower, upper = window_means - 2 * window_sds, window_means + 2 * window_sds\n",
    "    return (x[bandwidth-1:] - lower) / (upper - lower)\n",
    "rw = create_random_walk(100000)\n",
    "bband = calculate_bollinger_band(rw, bandwidth=100)\n",
    "_ = plt.hist(bband, bins=100)"
   ]
  },
  {
   "cell_type": "code",
   "execution_count": 285,
   "metadata": {},
   "outputs": [
    {
     "data": {
      "text/plain": [
       "[<matplotlib.lines.Line2D at 0x112e8e390>]"
      ]
     },
     "execution_count": 285,
     "metadata": {},
     "output_type": "execute_result"
    },
    {
     "data": {
      "image/png": "[encoded data removed]",
      "text/plain": [
       "<Figure size 432x288 with 1 Axes>"
      ]
     },
     "metadata": {
      "needs_background": "light"
     },
     "output_type": "display_data"
    }
   ],
   "source": [
    "plt.plot(rw)"
   ]
  },
  {
   "cell_type": "code",
   "execution_count": 316,
   "metadata": {},
   "outputs": [
    {
     "data": {
      "image/png": "[encoded data removed]",
      "text/plain": [
       "<Figure size 432x288 with 1 Axes>"
      ]
     },
     "metadata": {
      "needs_background": "light"
     },
     "output_type": "display_data"
    }
   ],
   "source": [
    "def calculate_bollinger_band(x: np.array, bandwidth=100) -> np.array:\n",
    "    windowed = moving_window_2d(x, bandwidth)\n",
    "    window_means = windowed.mean(axis=1)\n",
    "    window_sds = windowed.std(axis=1)\n",
    "    lower, upper = window_means - 2 * window_sds, window_means + 2 * window_sds\n",
    "    #return (x[bandwidth-1:] - lower) / (upper - lower)\n",
    "    return window_sds\n",
    "rw = create_random_walk(10000)\n",
    "bband = calculate_bollinger_band(rw, bandwidth=100)\n",
    "_ = plt.hist(bband, bins=100)"
   ]
  },
  {
   "cell_type": "code",
   "execution_count": 319,
   "metadata": {},
   "outputs": [
    {
     "data": {
      "text/plain": [
       "(9901,)"
      ]
     },
     "execution_count": 319,
     "metadata": {},
     "output_type": "execute_result"
    }
   ],
   "source": [
    "bband.shape"
   ]
  },
  {
   "cell_type": "code",
   "execution_count": 317,
   "metadata": {},
   "outputs": [
    {
     "data": {
      "image/png": "[encoded data removed]",
      "text/plain": [
       "<Figure size 432x288 with 1 Axes>"
      ]
     },
     "metadata": {
      "needs_background": "light"
     },
     "output_type": "display_data"
    }
   ],
   "source": [
    "stdevs = []\n",
    "for _ in range(10000):\n",
    "    rw = create_random_walk(100)\n",
    "    stdevs.append(rw.std())\n",
    "_ = plt.hist(stdevs,bins=100)"
   ]
  },
  {
   "cell_type": "code",
   "execution_count": 321,
   "metadata": {},
   "outputs": [
    {
     "data": {
      "text/plain": [
       "(10000,)"
      ]
     },
     "execution_count": 321,
     "metadata": {},
     "output_type": "execute_result"
    }
   ],
   "source": [
    "np.array(stdevs).shape"
   ]
  },
  {
   "cell_type": "code",
   "execution_count": 311,
   "metadata": {},
   "outputs": [
    {
     "data": {
      "image/png": "[encoded data removed]",
      "text/plain": [
       "<Figure size 432x288 with 1 Axes>"
      ]
     },
     "metadata": {
      "needs_background": "light"
     },
     "output_type": "display_data"
    }
   ],
   "source": [
    "stdevs = []\n",
    "means = []\n",
    "lowers = []\n",
    "uppers = []\n",
    "for _ in range(100000):\n",
    "    \n",
    "    rw = create_random_walk(100)\n",
    "    stdevs.append(rw.std())\n",
    "    means.append(rw.mean())\n",
    "    lower = rw.mean() - 2 * rw.std()\n",
    "    upper = rw.mean() + 2 * rw.std()\n",
    "    lowers.append(lower)\n",
    "    uppers.append(upper)\n",
    "#for LstStat in [stdevs, means, lowers, uppers]:\n",
    "#    LstStat = np.array(LstStat)\n",
    "stdevs = np.array(stdevs)\n",
    "means = np.array(means)\n",
    "lowers = np.array(lowers)\n",
    "uppers = np.array(uppers)\n",
    "    \n",
    "\n",
    "_ = plt.hist(- lowers/(uppers - lowers),bins=100)"
   ]
  },
  {
   "cell_type": "code",
   "execution_count": 309,
   "metadata": {},
   "outputs": [
    {
     "data": {
      "text/plain": [
       "list"
      ]
     },
     "execution_count": 309,
     "metadata": {},
     "output_type": "execute_result"
    }
   ],
   "source": [
    "type(lowers)"
   ]
  },
  {
   "cell_type": "code",
   "execution_count": 308,
   "metadata": {},
   "outputs": [
    {
     "ename": "TypeError",
     "evalue": "bad operand type for unary -: 'list'",
     "output_type": "error",
     "traceback": [
      "\u001b[0;31m---------------------------------------------------------------------------\u001b[0m",
      "\u001b[0;31mTypeError\u001b[0m                                 Traceback (most recent call last)",
      "\u001b[0;32m<ipython-input-308-df489dc87d83>\u001b[0m in \u001b[0;36m<module>\u001b[0;34m\u001b[0m\n\u001b[0;32m----> 1\u001b[0;31m \u001b[0m_\u001b[0m \u001b[0;34m=\u001b[0m \u001b[0mplt\u001b[0m\u001b[0;34m.\u001b[0m\u001b[0mhist\u001b[0m\u001b[0;34m(\u001b[0m\u001b[0;34m-\u001b[0m \u001b[0mlowers\u001b[0m\u001b[0;34m/\u001b[0m\u001b[0;34m(\u001b[0m\u001b[0muppers\u001b[0m \u001b[0;34m-\u001b[0m \u001b[0mlowers\u001b[0m\u001b[0;34m)\u001b[0m\u001b[0;34m,\u001b[0m\u001b[0mbins\u001b[0m\u001b[0;34m=\u001b[0m\u001b[0;36m100\u001b[0m\u001b[0;34m)\u001b[0m\u001b[0;34m\u001b[0m\u001b[0;34m\u001b[0m\u001b[0m\n\u001b[0m",
      "\u001b[0;31mTypeError\u001b[0m: bad operand type for unary -: 'list'"
     ]
    }
   ],
   "source": [
    "_ = plt.hist(- lowers/(uppers - lowers),bins=100)"
   ]
  },
  {
   "cell_type": "code",
   "execution_count": 298,
   "metadata": {},
   "outputs": [
    {
     "data": {
      "text/plain": [
       "(array([1.7735e+04, 4.2349e+04, 2.4101e+04, 1.0307e+04, 3.8010e+03,\n",
       "        1.2900e+03, 3.3100e+02, 6.9000e+01, 1.4000e+01, 3.0000e+00]),\n",
       " array([ 1.00567798,  2.4186601 ,  3.83164222,  5.24462434,  6.65760646,\n",
       "         8.07058858,  9.4835707 , 10.89655282, 12.30953494, 13.72251706,\n",
       "        15.13549918]),\n",
       " <a list of 10 Patch objects>)"
      ]
     },
     "execution_count": 298,
     "metadata": {},
     "output_type": "execute_result"
    },
    {
     "data": {
      "image/png": "[encoded data removed]",
      "text/plain": [
       "<Figure size 432x288 with 1 Axes>"
      ]
     },
     "metadata": {
      "needs_background": "light"
     },
     "output_type": "display_data"
    }
   ],
   "source": [
    "plt.hist(stdevs)"
   ]
  },
  {
   "cell_type": "code",
   "execution_count": null,
   "metadata": {},
   "outputs": [],
   "source": [
    "kth smallest"
   ]
  },
  {
   "cell_type": "code",
   "execution_count": 258,
   "metadata": {},
   "outputs": [
    {
     "data": {
      "image/png": "[encoded data removed]",
      "text/plain": [
       "<Figure size 432x288 with 1 Axes>"
      ]
     },
     "metadata": {
      "needs_background": "light"
     },
     "output_type": "display_data"
    }
   ],
   "source": [
    "def calculate_bollinger_band(x: np.array, bandwidth=100) -> np.array:\n",
    "    k=30\n",
    "    windowed = moving_window_2d(x, bandwidth)\n",
    "    window_means = windowed.mean(axis=1)\n",
    "    window_sds = windowed.std(axis=1)\n",
    "    window_mins = windowed.min(axis=1)\n",
    "    window_maxs = windowed.max(axis=1)\n",
    "    window_mink = np.partition(windowed,k-1,axis=1)[:,k-1] \n",
    "    window_maxk = np.partition(windowed,-k,axis=1)[:,-k]\n",
    "    lower, upper = window_means - 2 * window_sds, window_means + 2 * window_sds\n",
    "    return (x[bandwidth-1:] - window_mink) / (window_maxk - window_mink)\n",
    "rw = create_random_walk(100000)\n",
    "bband = calculate_bollinger_band(rw, bandwidth=100)\n",
    "_ = plt.hist(bband, bins=100)"
   ]
  },
  {
   "cell_type": "code",
   "execution_count": 269,
   "metadata": {},
   "outputs": [
    {
     "data": {
      "text/plain": [
       "(99996,)"
      ]
     },
     "execution_count": 269,
     "metadata": {},
     "output_type": "execute_result"
    }
   ],
   "source": []
  },
  {
   "cell_type": "code",
   "execution_count": 277,
   "metadata": {
    "scrolled": true
   },
   "outputs": [
    {
     "data": {
      "image/png": "[encoded data removed]",
      "text/plain": [
       "<Figure size 432x288 with 1 Axes>"
      ]
     },
     "metadata": {
      "needs_background": "light"
     },
     "output_type": "display_data"
    }
   ],
   "source": [
    "def calculate_bollinger_band(x: np.array, bandwidth=100) -> np.array:\n",
    "    k = 99\n",
    "    windowed = moving_window_2d(x, bandwidth)\n",
    "    window_means = windowed.mean(axis=1)\n",
    "    window_sds = windowed.std(axis=1)\n",
    "    window_mins = windowed.min(axis=1)\n",
    "    window_maxs = windowed.max(axis=1)\n",
    "    window_mink = np.partition(windowed,k-1,axis=1)[:,k-1] \n",
    "    lower, upper = window_means - 2 * window_sds, window_means + 2 * window_sds\n",
    "    #return (x[bandwidth-1:] - window_mins) / (window_maxs - window_mins)\n",
    "    return lower, upper, window_mins, window_maxs, window_mink\n",
    "rw = create_random_walk(100000)\n",
    "#bband = calculate_bollinger_band(rw, bandwidth=100)\n",
    "lower, upper, window_mins, window_maxs, kth_small = calculate_bollinger_band(rw, bandwidth=100)\n",
    "#_ = plt.hist(bband, bins=100)\n",
    "_ = plt.hist((kth_small - lower)/(upper - lower))"
   ]
  },
  {
   "cell_type": "code",
   "execution_count": 98,
   "metadata": {},
   "outputs": [],
   "source": [
    "def moving_window_2d(x: np.array, window: int) -> np.array:\n",
    "    \"\"\"\n",
    "    For example:\n",
    "       > moving_window_2d([1, 2, 3, 4, 5, 6], window=3)\n",
    "       [[1, 2, 3], [2, 3, 4], [3, 4, 5], [4, 5, 6]]\n",
    "    \"\"\"   \n",
    "    return np.lib.stride_tricks.as_strided(\n",
    "        x,\n",
    "        shape=(x.size - window + 1, window),\n",
    "        strides=(x.strides[0], x.strides[0]))\n",
    "def calculate_bollinger_band(x: np.array, bandwidth=100) -> np.array:\n",
    "    windowed = moving_window_2d(x, bandwidth)\n",
    "    window_means = windowed.mean(axis=1)\n",
    "    window_sds = windowed.std(axis=1)\n",
    "    window_mins = windowed.min(axis=1)\n",
    "    window_maxs = windowed.max(axis=1)\n",
    "    lower, upper = window_means - 2 * window_sds, window_means + 2 * window_sds\n",
    "    #lowerp, upperp = np.percentile(windowed,.05,axis=1), np.percentile(windowed,.95,axis=1)\n",
    "    return (x[bandwidth-1:] - lower) / (upper - lower)\n",
    "    #return (x[bandwidth-1:] - lowerp) / (upperp - lowerp)\n",
    "rw = create_random_walk(100000)\n",
    "bband = calculate_bollinger_band(rw, bandwidth=100)"
   ]
  },
  {
   "cell_type": "code",
   "execution_count": 94,
   "metadata": {},
   "outputs": [
    {
     "data": {
      "text/plain": [
       "array([2.38011434, 2.53116045, 2.66297511, ..., 0.435888  , 0.3544915 ,\n",
       "       0.32043349])"
      ]
     },
     "execution_count": 94,
     "metadata": {},
     "output_type": "execute_result"
    }
   ],
   "source": [
    "#window_means\n",
    "np.percentile(windowed,.05,axis=1) - lower"
   ]
  },
  {
   "cell_type": "code",
   "execution_count": 96,
   "metadata": {},
   "outputs": [
    {
     "data": {
      "text/plain": [
       "array([-13.71998506, -13.87103117, -14.00284583, ..., 268.48233945,\n",
       "       268.56373595, 268.59779397])"
      ]
     },
     "execution_count": 96,
     "metadata": {},
     "output_type": "execute_result"
    }
   ],
   "source": [
    "#rw[99:]\n"
   ]
  },
  {
   "cell_type": "code",
   "execution_count": 92,
   "metadata": {},
   "outputs": [
    {
     "data": {
      "text/plain": [
       "(99901,)"
      ]
     },
     "execution_count": 92,
     "metadata": {},
     "output_type": "execute_result"
    }
   ],
   "source": [
    "window_means.shape"
   ]
  },
  {
   "cell_type": "code",
   "execution_count": null,
   "metadata": {},
   "outputs": [],
   "source": [
    "take 100 days in...\n",
    "where is that relative to \n"
   ]
  },
  {
   "cell_type": "code",
   "execution_count": 86,
   "metadata": {},
   "outputs": [
    {
     "data": {
      "text/plain": [
       "array([  4.76802094,   6.08169297,   5.48200282, ..., 276.93054348,\n",
       "       278.02781955, 278.96235104])"
      ]
     },
     "execution_count": 86,
     "metadata": {},
     "output_type": "execute_result"
    }
   ],
   "source": [
    "rw[99:]"
   ]
  },
  {
   "cell_type": "code",
   "execution_count": 206,
   "metadata": {},
   "outputs": [
    {
     "data": {
      "text/plain": [
       "array([0.58545385, 0.97045126, 0.53116662, ..., 0.1364897 , 0.05488658,\n",
       "       0.29314567])"
      ]
     },
     "execution_count": 206,
     "metadata": {},
     "output_type": "execute_result"
    }
   ],
   "source": [
    "    windowed = moving_window_2d(rw, 5)\n",
    "    window_means = windowed.mean(axis=1)\n",
    "    window_sds = windowed.std(axis=1)\n",
    "    window_mins = windowed.min(axis=1)\n",
    "    window_maxs = windowed.max(axis=1)\n",
    "    lowerp, upperp = np.percentile(windowed,.05,axis=1), np.percentile(windowed,.95,axis=1)\n",
    "    lower, upper = window_means - 2 * window_sds, window_means + 2 * window_sds\n",
    "    (rw[5-1:] - lower) / (upper - lower)"
   ]
  },
  {
   "cell_type": "code",
   "execution_count": 138,
   "metadata": {},
   "outputs": [
    {
     "data": {
      "text/plain": [
       "(99901,)"
      ]
     },
     "execution_count": 138,
     "metadata": {},
     "output_type": "execute_result"
    }
   ],
   "source": [
    "#np.argpartition(windowed,5,axis=1).shape\n",
    "#windowed.shape\n",
    "np.argsort(windowed,axis=1)[:,3].shape"
   ]
  },
  {
   "cell_type": "code",
   "execution_count": 140,
   "metadata": {},
   "outputs": [
    {
     "data": {
      "text/plain": [
       "5612"
      ]
     },
     "execution_count": 140,
     "metadata": {},
     "output_type": "execute_result"
    }
   ],
   "source": [
    "((rw[100-1:] - window_mins) / (window_maxs - window_mins)==0).sum()"
   ]
  },
  {
   "cell_type": "code",
   "execution_count": 105,
   "metadata": {},
   "outputs": [
    {
     "data": {
      "image/png": "[encoded data removed]",
      "text/plain": [
       "<Figure size 432x288 with 1 Axes>"
      ]
     },
     "metadata": {
      "needs_background": "light"
     },
     "output_type": "display_data"
    }
   ],
   "source": [
    "_ = plt.hist((rw[100-1:] - window_mins) / (window_maxs - window_mins),bins=99)\n",
    "#_ = plt.hist((rw[100-1:] - lower) / (upper - lower),bins=100)"
   ]
  },
  {
   "cell_type": "code",
   "execution_count": 45,
   "metadata": {},
   "outputs": [
    {
     "data": {
      "text/plain": [
       "array([-13.71998506, -13.87103117, -14.00284583, ..., 268.48233945,\n",
       "       268.56373595, 268.59779397])"
      ]
     },
     "execution_count": 45,
     "metadata": {},
     "output_type": "execute_result"
    }
   ],
   "source": [
    "np.percentile(windowed,.05,axis=1)\n",
    "lower"
   ]
  },
  {
   "cell_type": "code",
   "execution_count": 58,
   "metadata": {},
   "outputs": [],
   "source": [
    "#lowerp.shape\n",
    "#rw[100-1:].shape\n",
    "#upperp.shape\n",
    "_ = (rw[100-1:] - lowerp) / (upperp - lowerp)"
   ]
  },
  {
   "cell_type": "code",
   "execution_count": 63,
   "metadata": {},
   "outputs": [
    {
     "data": {
      "text/plain": [
       "array([203.77403173, 220.3927334 , 212.8063104 , ...,  15.19420181,\n",
       "        17.27502764,  19.04723183])"
      ]
     },
     "execution_count": 63,
     "metadata": {},
     "output_type": "execute_result"
    }
   ],
   "source": [
    "(rw[100-1:] - lowerp) / (upperp - lowerp)"
   ]
  },
  {
   "cell_type": "code",
   "execution_count": 62,
   "metadata": {},
   "outputs": [
    {
     "data": {
      "text/plain": [
       "(array([9.9558e+04, 1.1800e+02, 1.0900e+02, 2.2000e+01, 4.0000e+00,\n",
       "        1.0000e+00, 1.0000e+00, 2.0000e+00, 1.0000e+00, 0.0000e+00,\n",
       "        1.0000e+00, 2.0000e+00, 2.0000e+00, 3.0000e+00, 3.0000e+00,\n",
       "        4.0000e+00, 4.0000e+00, 3.0000e+00, 0.0000e+00, 1.0000e+00,\n",
       "        1.0000e+00, 1.0000e+00, 2.0000e+00, 1.0000e+00, 0.0000e+00,\n",
       "        1.0000e+00, 0.0000e+00, 0.0000e+00, 0.0000e+00, 0.0000e+00,\n",
       "        0.0000e+00, 0.0000e+00, 1.0000e+00, 0.0000e+00, 0.0000e+00,\n",
       "        1.0000e+00, 0.0000e+00, 1.0000e+00, 1.0000e+00, 0.0000e+00,\n",
       "        0.0000e+00, 0.0000e+00, 1.0000e+00, 1.0000e+00, 5.0000e+00,\n",
       "        0.0000e+00, 1.0000e+00, 1.0000e+00, 3.0000e+00, 1.0000e+00,\n",
       "        3.0000e+00, 2.0000e+00, 2.0000e+00, 0.0000e+00, 3.0000e+00,\n",
       "        3.0000e+00, 2.0000e+00, 4.0000e+00, 1.0000e+00, 1.0000e+00,\n",
       "        1.0000e+00, 1.0000e+00, 0.0000e+00, 0.0000e+00, 2.0000e+00,\n",
       "        0.0000e+00, 0.0000e+00, 0.0000e+00, 0.0000e+00, 3.0000e+00,\n",
       "        0.0000e+00, 1.0000e+00, 1.0000e+00, 2.0000e+00, 0.0000e+00,\n",
       "        0.0000e+00, 0.0000e+00, 0.0000e+00, 0.0000e+00, 0.0000e+00,\n",
       "        0.0000e+00, 0.0000e+00, 1.0000e+00, 0.0000e+00, 1.0000e+00,\n",
       "        0.0000e+00, 2.0000e+00, 0.0000e+00, 1.0000e+00, 0.0000e+00,\n",
       "        1.0000e+00, 0.0000e+00, 0.0000e+00, 0.0000e+00, 0.0000e+00,\n",
       "        0.0000e+00, 0.0000e+00, 0.0000e+00, 0.0000e+00, 1.0000e+00]),\n",
       " array([-5.55555557e-02,  5.44564536e+03,  1.08913463e+04,  1.63370472e+04,\n",
       "         2.17827481e+04,  2.72284490e+04,  3.26741499e+04,  3.81198508e+04,\n",
       "         4.35655518e+04,  4.90112527e+04,  5.44569536e+04,  5.99026545e+04,\n",
       "         6.53483554e+04,  7.07940563e+04,  7.62397573e+04,  8.16854582e+04,\n",
       "         8.71311591e+04,  9.25768600e+04,  9.80225609e+04,  1.03468262e+05,\n",
       "         1.08913963e+05,  1.14359664e+05,  1.19805365e+05,  1.25251065e+05,\n",
       "         1.30696766e+05,  1.36142467e+05,  1.41588168e+05,  1.47033869e+05,\n",
       "         1.52479570e+05,  1.57925271e+05,  1.63370972e+05,  1.68816673e+05,\n",
       "         1.74262374e+05,  1.79708075e+05,  1.85153776e+05,  1.90599476e+05,\n",
       "         1.96045177e+05,  2.01490878e+05,  2.06936579e+05,  2.12382280e+05,\n",
       "         2.17827981e+05,  2.23273682e+05,  2.28719383e+05,  2.34165084e+05,\n",
       "         2.39610785e+05,  2.45056486e+05,  2.50502187e+05,  2.55947887e+05,\n",
       "         2.61393588e+05,  2.66839289e+05,  2.72284990e+05,  2.77730691e+05,\n",
       "         2.83176392e+05,  2.88622093e+05,  2.94067794e+05,  2.99513495e+05,\n",
       "         3.04959196e+05,  3.10404897e+05,  3.15850598e+05,  3.21296298e+05,\n",
       "         3.26741999e+05,  3.32187700e+05,  3.37633401e+05,  3.43079102e+05,\n",
       "         3.48524803e+05,  3.53970504e+05,  3.59416205e+05,  3.64861906e+05,\n",
       "         3.70307607e+05,  3.75753308e+05,  3.81199008e+05,  3.86644709e+05,\n",
       "         3.92090410e+05,  3.97536111e+05,  4.02981812e+05,  4.08427513e+05,\n",
       "         4.13873214e+05,  4.19318915e+05,  4.24764616e+05,  4.30210317e+05,\n",
       "         4.35656018e+05,  4.41101719e+05,  4.46547419e+05,  4.51993120e+05,\n",
       "         4.57438821e+05,  4.62884522e+05,  4.68330223e+05,  4.73775924e+05,\n",
       "         4.79221625e+05,  4.84667326e+05,  4.90113027e+05,  4.95558728e+05,\n",
       "         5.01004429e+05,  5.06450130e+05,  5.11895830e+05,  5.17341531e+05,\n",
       "         5.22787232e+05,  5.28232933e+05,  5.33678634e+05,  5.39124335e+05,\n",
       "         5.44570036e+05]),\n",
       " <a list of 100 Patch objects>)"
      ]
     },
     "execution_count": 62,
     "metadata": {},
     "output_type": "execute_result"
    },
    {
     "data": {
      "image/png": "[encoded data removed]",
      "text/plain": [
       "<Figure size 432x288 with 1 Axes>"
      ]
     },
     "metadata": {
      "needs_background": "light"
     },
     "output_type": "display_data"
    }
   ],
   "source": [
    "fig, ax = plt.subplots()\n",
    "ax.hist(_,bins=100)"
   ]
  },
  {
   "cell_type": "code",
   "execution_count": 55,
   "metadata": {},
   "outputs": [
    {
     "ename": "ValueError",
     "evalue": "operands could not be broadcast together with shapes (3,) (99901,) ",
     "output_type": "error",
     "traceback": [
      "\u001b[0;31m---------------------------------------------------------------------------\u001b[0m",
      "\u001b[0;31mValueError\u001b[0m                                Traceback (most recent call last)",
      "\u001b[0;32m<ipython-input-55-d9816c34c4c6>\u001b[0m in \u001b[0;36m<module>\u001b[0;34m\u001b[0m\n\u001b[0;32m----> 1\u001b[0;31m \u001b[0mplt\u001b[0m\u001b[0;34m.\u001b[0m\u001b[0mhist\u001b[0m\u001b[0;34m(\u001b[0m\u001b[0mrw\u001b[0m\u001b[0;34m[\u001b[0m\u001b[0;36m100\u001b[0m\u001b[0;34m-\u001b[0m\u001b[0;36m1\u001b[0m\u001b[0;34m:\u001b[0m\u001b[0;34m]\u001b[0m \u001b[0;34m-\u001b[0m \u001b[0mlowerp\u001b[0m\u001b[0;34m)\u001b[0m \u001b[0;34m/\u001b[0m \u001b[0;34m(\u001b[0m\u001b[0mupperp\u001b[0m \u001b[0;34m-\u001b[0m \u001b[0mlowerp\u001b[0m\u001b[0;34m)\u001b[0m\u001b[0;34m\u001b[0m\u001b[0;34m\u001b[0m\u001b[0m\n\u001b[0m",
      "\u001b[0;31mValueError\u001b[0m: operands could not be broadcast together with shapes (3,) (99901,) "
     ]
    },
    {
     "data": {
      "image/png": "[encoded data removed]",
      "text/plain": [
       "<Figure size 432x288 with 1 Axes>"
      ]
     },
     "metadata": {
      "needs_background": "light"
     },
     "output_type": "display_data"
    }
   ],
   "source": [
    "#plt.hist(rw[100-1:] - lowerp) / (upperp - lowerp)"
   ]
  },
  {
   "cell_type": "code",
   "execution_count": 77,
   "metadata": {},
   "outputs": [
    {
     "ename": "ValueError",
     "evalue": "operands could not be broadcast together with shapes (3,) (99901,) ",
     "output_type": "error",
     "traceback": [
      "\u001b[0;31m---------------------------------------------------------------------------\u001b[0m",
      "\u001b[0;31mValueError\u001b[0m                                Traceback (most recent call last)",
      "\u001b[0;32m<ipython-input-77-0355ae9d13e0>\u001b[0m in \u001b[0;36m<module>\u001b[0;34m\u001b[0m\n\u001b[0;32m----> 1\u001b[0;31m \u001b[0mplt\u001b[0m\u001b[0;34m.\u001b[0m\u001b[0mhist\u001b[0m\u001b[0;34m(\u001b[0m\u001b[0mrw\u001b[0m\u001b[0;34m[\u001b[0m\u001b[0;36m100\u001b[0m\u001b[0;34m-\u001b[0m\u001b[0;36m1\u001b[0m\u001b[0;34m:\u001b[0m\u001b[0;34m]\u001b[0m \u001b[0;34m-\u001b[0m \u001b[0mlower\u001b[0m\u001b[0;34m)\u001b[0m \u001b[0;34m/\u001b[0m \u001b[0;34m(\u001b[0m\u001b[0mupper\u001b[0m \u001b[0;34m-\u001b[0m \u001b[0mlower\u001b[0m\u001b[0;34m)\u001b[0m\u001b[0;34m\u001b[0m\u001b[0;34m\u001b[0m\u001b[0m\n\u001b[0m",
      "\u001b[0;31mValueError\u001b[0m: operands could not be broadcast together with shapes (3,) (99901,) "
     ]
    },
    {
     "data": {
      "image/png": "[encoded data removed]",
      "text/plain": [
       "<Figure size 432x288 with 1 Axes>"
      ]
     },
     "metadata": {
      "needs_background": "light"
     },
     "output_type": "display_data"
    }
   ],
   "source": [
    "plt.hist(rw[100-1:] - lower) / (upper - lower)"
   ]
  },
  {
   "cell_type": "code",
   "execution_count": 47,
   "metadata": {},
   "outputs": [
    {
     "data": {
      "image/png": "[encoded data removed]",
      "text/plain": [
       "<Figure size 432x288 with 1 Axes>"
      ]
     },
     "metadata": {
      "needs_background": "light"
     },
     "output_type": "display_data"
    }
   ],
   "source": [
    "_ = plt.hist(bband, bins=100)"
   ]
  },
  {
   "cell_type": "code",
   "execution_count": 6,
   "metadata": {},
   "outputs": [],
   "source": [
    "def create_random_walk(n: int) -> np.array:\n",
    "    dx = np.random.normal(scale=1.0, size=n)\n",
    "    return dx.cumsum()\n"
   ]
  },
  {
   "cell_type": "code",
   "execution_count": 14,
   "metadata": {},
   "outputs": [],
   "source": [
    "rw = create_random_walk(100000)\n",
    "windowed = moving_window_2d(rw, 2)"
   ]
  },
  {
   "cell_type": "code",
   "execution_count": 15,
   "metadata": {},
   "outputs": [
    {
     "data": {
      "text/plain": [
       "array([[-1.43246517e+00, -2.06928653e-01],\n",
       "       [-2.06928653e-01, -2.97830984e-02],\n",
       "       [-2.97830984e-02, -2.76528849e+00],\n",
       "       ...,\n",
       "       [ 8.09865497e+02,  8.12801439e+02],\n",
       "       [ 8.12801439e+02,  8.14453897e+02],\n",
       "       [ 8.14453897e+02,  8.15000114e+02]])"
      ]
     },
     "execution_count": 15,
     "metadata": {},
     "output_type": "execute_result"
    }
   ],
   "source": [
    "windowed"
   ]
  },
  {
   "cell_type": "code",
   "execution_count": 13,
   "metadata": {},
   "outputs": [
    {
     "data": {
      "text/plain": [
       "array([-1.03026425e+00, -2.34237856e-01, -7.87849658e-01, ...,\n",
       "       -5.76316230e+02, -5.75446692e+02, -5.73677380e+02])"
      ]
     },
     "execution_count": 13,
     "metadata": {},
     "output_type": "execute_result"
    }
   ],
   "source": [
    "rw"
   ]
  },
  {
   "cell_type": "code",
   "execution_count": 323,
   "metadata": {},
   "outputs": [
    {
     "data": {
      "image/png": "[encoded data removed]",
      "text/plain": [
       "<Figure size 432x288 with 1 Axes>"
      ]
     },
     "metadata": {
      "needs_background": "light"
     },
     "output_type": "display_data"
    }
   ],
   "source": [
    "#stdev of RW vs. range of RW\n",
    "stdevs = []\n",
    "means = []\n",
    "lowers = []\n",
    "uppers = []\n",
    "ranges = []\n",
    "maxes = []\n",
    "mins = []\n",
    "for _ in range(100000):\n",
    "    \n",
    "    rw = create_random_walk(100)\n",
    "    stdevs.append(rw.std())\n",
    "    means.append(rw.mean())\n",
    "    lower = rw.mean() - 2 * rw.std()\n",
    "    upper = rw.mean() + 2 * rw.std()\n",
    "    walkmax = rw.max()\n",
    "    walkmin = rw.min()\n",
    "    minmaxrange = rw.max() - rw.min()\n",
    "    lowers.append(lower)\n",
    "    uppers.append(upper)\n",
    "    ranges.append(minmaxrange)\n",
    "    maxes.append(walkmax)\n",
    "    mins.append(walkmin)\n",
    "    \n",
    "#for LstStat in [stdevs, means, lowers, uppers]:\n",
    "#    LstStat = np.array(LstStat)\n",
    "stdevs = np.array(stdevs)\n",
    "means = np.array(means)\n",
    "lowers = np.array(lowers)\n",
    "uppers = np.array(uppers)\n",
    "ranges = np.array(ranges)\n",
    "maxes = np.array(maxes)\n",
    "mins = np.array(mins)\n",
    "    \n",
    "\n",
    "_ = plt.hist(- lowers/(uppers - lowers),bins=100)"
   ]
  },
  {
   "cell_type": "code",
   "execution_count": 325,
   "metadata": {},
   "outputs": [
    {
     "data": {
      "image/png": "[encoded data removed]",
      "text/plain": [
       "<Figure size 432x288 with 1 Axes>"
      ]
     },
     "metadata": {
      "needs_background": "light"
     },
     "output_type": "display_data"
    }
   ],
   "source": [
    "_ = plt.scatter(uppers - lowers, stdevs)"
   ]
  },
  {
   "cell_type": "code",
   "execution_count": 329,
   "metadata": {},
   "outputs": [
    {
     "data": {
      "image/png": "[encoded data removed]",
      "text/plain": [
       "<Figure size 432x288 with 1 Axes>"
      ]
     },
     "metadata": {
      "needs_background": "light"
     },
     "output_type": "display_data"
    }
   ],
   "source": [
    "#stdev of RW vs. range of RW\n",
    "stdevs = []\n",
    "means = []\n",
    "lowers = []\n",
    "uppers = []\n",
    "ranges = []\n",
    "maxes = []\n",
    "mins = []\n",
    "for _ in range(10000):\n",
    "    \n",
    "    rw = create_random_walk(6)\n",
    "    stdevs.append(rw.std())\n",
    "    means.append(rw.mean())\n",
    "    lower = rw.mean() - 2 * rw.std()\n",
    "    upper = rw.mean() + 2 * rw.std()\n",
    "    walkmax = rw.max()\n",
    "    walkmin = rw.min()\n",
    "    minmaxrange = rw.max() - rw.min()\n",
    "    lowers.append(lower)\n",
    "    uppers.append(upper)\n",
    "    ranges.append(minmaxrange)\n",
    "    maxes.append(walkmax)\n",
    "    mins.append(walkmin)\n",
    "    \n",
    "#for LstStat in [stdevs, means, lowers, uppers]:\n",
    "#    LstStat = np.array(LstStat)\n",
    "stdevs = np.array(stdevs)\n",
    "means = np.array(means)\n",
    "lowers = np.array(lowers)\n",
    "uppers = np.array(uppers)\n",
    "ranges = np.array(ranges)\n",
    "maxes = np.array(maxes)\n",
    "mins = np.array(mins)\n",
    "    \n",
    "\n",
    "_ = plt.hist(- lowers/(uppers - lowers),bins=100)"
   ]
  },
  {
   "cell_type": "code",
   "execution_count": 330,
   "metadata": {},
   "outputs": [
    {
     "data": {
      "image/png": "[encoded data removed]",
      "text/plain": [
       "<Figure size 432x288 with 1 Axes>"
      ]
     },
     "metadata": {
      "needs_background": "light"
     },
     "output_type": "display_data"
    }
   ],
   "source": [
    "#stdev of RW vs. range of RW\n",
    "stdevs = []\n",
    "means = []\n",
    "lowers = []\n",
    "uppers = []\n",
    "ranges = []\n",
    "maxes = []\n",
    "mins = []\n",
    "for _ in range(10000):\n",
    "    \n",
    "    rw = create_random_walk(10)\n",
    "    stdevs.append(rw.std())\n",
    "    means.append(rw.mean())\n",
    "    lower = rw.mean() - 2 * rw.std()\n",
    "    upper = rw.mean() + 2 * rw.std()\n",
    "    walkmax = rw.max()\n",
    "    walkmin = rw.min()\n",
    "    minmaxrange = rw.max() - rw.min()\n",
    "    lowers.append(lower)\n",
    "    uppers.append(upper)\n",
    "    ranges.append(minmaxrange)\n",
    "    maxes.append(walkmax)\n",
    "    mins.append(walkmin)\n",
    "    \n",
    "#for LstStat in [stdevs, means, lowers, uppers]:\n",
    "#    LstStat = np.array(LstStat)\n",
    "stdevs = np.array(stdevs)\n",
    "means = np.array(means)\n",
    "lowers = np.array(lowers)\n",
    "uppers = np.array(uppers)\n",
    "ranges = np.array(ranges)\n",
    "maxes = np.array(maxes)\n",
    "mins = np.array(mins)\n",
    "    \n",
    "\n",
    "_ = plt.hist(- lowers/(uppers - lowers),bins=100)"
   ]
  },
  {
   "cell_type": "code",
   "execution_count": 331,
   "metadata": {},
   "outputs": [
    {
     "data": {
      "image/png": "[encoded data removed]",
      "text/plain": [
       "<Figure size 432x288 with 1 Axes>"
      ]
     },
     "metadata": {
      "needs_background": "light"
     },
     "output_type": "display_data"
    }
   ],
   "source": [
    "#stdev of RW vs. range of RW\n",
    "stdevs = []\n",
    "means = []\n",
    "lowers = []\n",
    "uppers = []\n",
    "ranges = []\n",
    "maxes = []\n",
    "mins = []\n",
    "for _ in range(10000):\n",
    "    \n",
    "    rw = create_random_walk(20)\n",
    "    stdevs.append(rw.std())\n",
    "    means.append(rw.mean())\n",
    "    lower = rw.mean() - 2 * rw.std()\n",
    "    upper = rw.mean() + 2 * rw.std()\n",
    "    walkmax = rw.max()\n",
    "    walkmin = rw.min()\n",
    "    minmaxrange = rw.max() - rw.min()\n",
    "    lowers.append(lower)\n",
    "    uppers.append(upper)\n",
    "    ranges.append(minmaxrange)\n",
    "    maxes.append(walkmax)\n",
    "    mins.append(walkmin)\n",
    "    \n",
    "#for LstStat in [stdevs, means, lowers, uppers]:\n",
    "#    LstStat = np.array(LstStat)\n",
    "stdevs = np.array(stdevs)\n",
    "means = np.array(means)\n",
    "lowers = np.array(lowers)\n",
    "uppers = np.array(uppers)\n",
    "ranges = np.array(ranges)\n",
    "maxes = np.array(maxes)\n",
    "mins = np.array(mins)\n",
    "    \n",
    "\n",
    "_ = plt.hist(- lowers/(uppers - lowers),bins=100)"
   ]
  },
  {
   "cell_type": "code",
   "execution_count": 332,
   "metadata": {},
   "outputs": [
    {
     "data": {
      "image/png": "[encoded data removed]",
      "text/plain": [
       "<Figure size 432x288 with 1 Axes>"
      ]
     },
     "metadata": {
      "needs_background": "light"
     },
     "output_type": "display_data"
    }
   ],
   "source": [
    "#stdev of RW vs. range of RW\n",
    "stdevs = []\n",
    "means = []\n",
    "lowers = []\n",
    "uppers = []\n",
    "ranges = []\n",
    "maxes = []\n",
    "mins = []\n",
    "for _ in range(10000):\n",
    "    \n",
    "    rw = create_random_walk(100)\n",
    "    stdevs.append(rw.std())\n",
    "    means.append(rw.mean())\n",
    "    lower = rw.mean() - 2 * rw.std()\n",
    "    upper = rw.mean() + 2 * rw.std()\n",
    "    walkmax = rw.max()\n",
    "    walkmin = rw.min()\n",
    "    minmaxrange = rw.max() - rw.min()\n",
    "    lowers.append(lower)\n",
    "    uppers.append(upper)\n",
    "    ranges.append(minmaxrange)\n",
    "    maxes.append(walkmax)\n",
    "    mins.append(walkmin)\n",
    "    \n",
    "#for LstStat in [stdevs, means, lowers, uppers]:\n",
    "#    LstStat = np.array(LstStat)\n",
    "stdevs = np.array(stdevs)\n",
    "means = np.array(means)\n",
    "lowers = np.array(lowers)\n",
    "uppers = np.array(uppers)\n",
    "ranges = np.array(ranges)\n",
    "maxes = np.array(maxes)\n",
    "mins = np.array(mins)\n",
    "    \n",
    "\n",
    "_ = plt.hist(- lowers/(uppers - lowers),bins=100)"
   ]
  },
  {
   "cell_type": "code",
   "execution_count": null,
   "metadata": {},
   "outputs": [],
   "source": []
  }
 ],
 "metadata": {
  "kernelspec": {
   "display_name": "Python 3",
   "language": "python",
   "name": "python3"
  },
  "language_info": {
   "codemirror_mode": {
    "name": "ipython",
    "version": 3
   },
   "file_extension": ".py",
   "mimetype": "text/x-python",
   "name": "python",
   "nbconvert_exporter": "python",
   "pygments_lexer": "ipython3",
   "version": "3.7.4"
  }
 },
 "nbformat": 4,
 "nbformat_minor": 2
}
